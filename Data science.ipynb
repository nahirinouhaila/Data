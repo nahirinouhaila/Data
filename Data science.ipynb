{
 "cells": [
  {
   "cell_type": "markdown",
   "id": "9697a3ee-1b7f-4eaa-8f26-bb64b683b359",
   "metadata": {},
   "source": [
    "# Data science:"
   ]
  },
  {
   "cell_type": "markdown",
   "id": "0792f737-d4b1-41c3-8157-50d61f37a0d0",
   "metadata": {},
   "source": [
    "## Introduction:\n",
    "This notebook covers various exercises related to data science. It includes examples of data science languages, libraries, tools, arithmetic operations, and more. The goal is to provide a comprehensive overview and practical examples to understand the basics of data science."
   ]
  },
  {
   "cell_type": "markdown",
   "id": "e386e572-c6e2-405b-a798-5b1d60f1baba",
   "metadata": {},
   "source": [
    "## Data Science Languages\n",
    "- Python\n",
    "- R\n",
    "- SQL\n",
    "- Julia\n",
    "- Scala\n"
   ]
  },
  {
   "cell_type": "markdown",
   "id": "62b34e94-b3f5-4e5b-a5b9-5d1aae8dee54",
   "metadata": {},
   "source": [
    "## Data Science Libraries\n",
    "- Pandas\n",
    "- NumPy\n",
    "- Matplotlib\n",
    "- Scikit-learn\n",
    "- TensorFlow\n",
    "- Keras\n",
    "- PyTorch\n"
   ]
  },
  {
   "cell_type": "markdown",
   "id": "1d99890d-0b82-4fc0-a4b7-edebeeb4218e",
   "metadata": {},
   "source": [
    "## Data Science Tools\n",
    "| Tool           | Description                          |\n",
    "|----------------|--------------------------------------|\n",
    "| Jupyter Notebook | Interactive computing environment   |\n",
    "| RStudio        | Integrated development environment for R |\n",
    "| Apache Spark   | Unified analytics engine             |\n",
    "| Tableau        | Data visualization tool              |\n",
    "| GitHub         | Code hosting platform                |"
   ]
  },
  {
   "cell_type": "markdown",
   "id": "5aa44578-1782-4448-bf68-14b4ac1b08f8",
   "metadata": {},
   "source": [
    "### Below are a few examples of evaluating arithmetic expressions in Python.\n"
   ]
  },
  {
   "cell_type": "markdown",
   "id": "7cf3edf9-03d1-448c-a8a0-e03408faf297",
   "metadata": {},
   "source": [
    "This is a simple arithmetic expression to multiply then add integers.\n"
   ]
  },
  {
   "cell_type": "code",
   "execution_count": 6,
   "id": "cb45f30a-e0f5-4b5b-b0b7-05327f5117b5",
   "metadata": {},
   "outputs": [
    {
     "data": {
      "text/plain": [
       "17"
      ]
     },
     "execution_count": 6,
     "metadata": {},
     "output_type": "execute_result"
    }
   ],
   "source": [
    "\n",
    "result = (3 * 4) + 5\n",
    "result"
   ]
  },
  {
   "cell_type": "markdown",
   "id": "c6de7566-6c81-44fa-9713-23dbb767d2d7",
   "metadata": {},
   "source": [
    "This will convert 200 minutes to hours by dividing by 60\n"
   ]
  },
  {
   "cell_type": "code",
   "execution_count": 7,
   "id": "28b90109-2fd4-4f2c-8fd7-50604ce5ca4f",
   "metadata": {},
   "outputs": [
    {
     "data": {
      "text/plain": [
       "3.3333333333333335"
      ]
     },
     "execution_count": 7,
     "metadata": {},
     "output_type": "execute_result"
    }
   ],
   "source": [
    "minutes = 200\n",
    "hours = minutes / 60\n",
    "hours"
   ]
  },
  {
   "cell_type": "markdown",
   "id": "586bbec0-7589-40df-9b08-154af4b0d194",
   "metadata": {},
   "source": [
    "## Objectives\n",
    "- List common data science languages\n",
    "- Identify popular data science libraries\n",
    "- Demonstrate basic arithmetic operations\n",
    "- Convert time measurements"
   ]
  },
  {
   "cell_type": "markdown",
   "id": "929c85d7-9513-4b62-838e-3f1e1432252e",
   "metadata": {},
   "source": [
    "## Author\n",
    "Nouhaila Nahiri"
   ]
  },
  {
   "cell_type": "code",
   "execution_count": null,
   "id": "7d45af1f-ee67-4673-86b1-06e80547bef7",
   "metadata": {},
   "outputs": [],
   "source": []
  }
 ],
 "metadata": {
  "kernelspec": {
   "display_name": "Python 3 (ipykernel)",
   "language": "python",
   "name": "python3"
  },
  "language_info": {
   "codemirror_mode": {
    "name": "ipython",
    "version": 3
   },
   "file_extension": ".py",
   "mimetype": "text/x-python",
   "name": "python",
   "nbconvert_exporter": "python",
   "pygments_lexer": "ipython3",
   "version": "3.11.7"
  }
 },
 "nbformat": 4,
 "nbformat_minor": 5
}
